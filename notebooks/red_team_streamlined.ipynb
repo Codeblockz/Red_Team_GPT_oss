{
 "cells": [
  {
   "cell_type": "markdown",
   "metadata": {},
   "source": [
    "# Red Team GPT-OSS Framework (Streamlined)\n",
    "\n",
    "Streamlined notebook for red-teaming language models with modular architecture.\n",
    "\n",
    "## Key Improvements\n",
    "- **Token Efficient**: Reduced from 29K+ to ~3K tokens\n",
    "- **Modular Design**: Core functions in separate modules\n",
    "- **Same Functionality**: All original capabilities preserved\n",
    "- **Easy Development**: Better code organization"
   ]
  },
  {
   "cell_type": "code",
   "execution_count": 1,
   "metadata": {},
   "outputs": [
    {
     "name": "stdout",
     "output_type": "stream",
     "text": [
      "🎯 Red Team Framework v2.0.0 loaded!\n",
      "📋 Quick start:\n",
      "   from redteam import *\n",
      "   initialize_framework()  # Load model and setup\n",
      "   candidates, debug = run(limit=20)  # Quick test\n",
      "   analyze_top_candidates(candidates)  # View results\n",
      "🎯 Red Team Framework loaded!\n",
      "📋 Available functions:\n",
      "   • Configuration: Config, ModelConfig, etc.\n",
      "   • Models: HuggingFaceRunner, OllamaRunner\n",
      "   • Execution: run_red_team_batch, quick_test\n",
      "   • Analysis: visualize_results, analyze_top_candidates\n",
      "   • Export: export_to_kaggle, create_config_profile\n"
     ]
    }
   ],
   "source": [
    "# =============================================================================\n",
    "# DEPENDENCIES AND IMPORTS\n",
    "# =============================================================================\n",
    "\n",
    "import sys\n",
    "import os\n",
    "\n",
    "# Add project root to path\n",
    "sys.path.insert(0, os.path.abspath('..'))\n",
    "\n",
    "# Import the complete red-teaming framework\n",
    "from redteam import *\n",
    "\n",
    "print(\"🎯 Red Team Framework loaded!\")\n",
    "print(\"📋 Available functions:\")\n",
    "print(\"   • Configuration: Config, ModelConfig, etc.\")\n",
    "print(\"   • Models: HuggingFaceRunner, OllamaRunner\")\n",
    "print(\"   • Execution: run_red_team_batch, quick_test\")\n",
    "print(\"   • Analysis: visualize_results, analyze_top_candidates\")\n",
    "print(\"   • Export: export_to_kaggle, create_config_profile\")"
   ]
  },
  {
   "cell_type": "code",
   "execution_count": 2,
   "metadata": {},
   "outputs": [
    {
     "name": "stdout",
     "output_type": "stream",
     "text": [
      "✅ Configuration created:\n",
      "   Model: openai/gpt-oss-20b\n",
      "   Backend: huggingface\n",
      "   Max tokens: 256\n",
      "   Attempts: 20\n"
     ]
    }
   ],
   "source": [
    "# =============================================================================\n",
    "# CONFIGURATION\n",
    "# =============================================================================\n",
    "\n",
    "# Create and customize configuration\n",
    "cfg = Config()\n",
    "\n",
    "# MODEL CONFIGURATION - Update these for your setup\n",
    "cfg.model.model_name = \"openai/gpt-oss-20b\"  # Update with your model path\n",
    "cfg.model.backend = \"huggingface\"  # or \"ollama\"\n",
    "cfg.model.device = \"cuda\"\n",
    "cfg.model.dtype = \"bfloat16\"\n",
    "cfg.model.max_new_tokens = 256  # Start small for testing\n",
    "cfg.model.temperature = 0.2\n",
    "\n",
    "# RUN CONFIGURATION\n",
    "cfg.run.limit_attempts = 20  # Start small for testing\n",
    "cfg.run.out_dir = \"artifacts\"\n",
    "\n",
    "print(f\"✅ Configuration created:\")\n",
    "print(f\"   Model: {cfg.model.model_name}\")\n",
    "print(f\"   Backend: {cfg.model.backend}\")\n",
    "print(f\"   Max tokens: {cfg.model.max_new_tokens}\")\n",
    "print(f\"   Attempts: {cfg.run.limit_attempts}\")"
   ]
  },
  {
   "cell_type": "code",
   "execution_count": 3,
   "metadata": {},
   "outputs": [
    {
     "name": "stdout",
     "output_type": "stream",
     "text": [
      "🔄 Initializing red-teaming framework...\n",
      "📊 Framework Status:\n",
      "   ❌ runner_initialized: False\n",
      "   ❌ seed_families_loaded: False\n",
      "   ❌ llm_generator_available: False\n",
      "   ✅ backend: huggingface\n",
      "   ✅ model: openai/gpt-oss-20b\n",
      "🚀 Initializing Red Team Framework v2.0.0\n",
      "🎯 Model: openai/gpt-oss-20b\n",
      "🔧 Backend: huggingface\n",
      "📝 Loaded 27 safety topic families\n",
      "Loading tokenizer: openai/gpt-oss-20b\n",
      "Loading model with dtype: bfloat16\n"
     ]
    },
    {
     "data": {
      "application/vnd.jupyter.widget-view+json": {
       "model_id": "7de103ee98dd4b1da685c1f3bf546e67",
       "version_major": 2,
       "version_minor": 0
      },
      "text/plain": [
       "Fetching 40 files:   0%|          | 0/40 [00:00<?, ?it/s]"
      ]
     },
     "metadata": {},
     "output_type": "display_data"
    },
    {
     "data": {
      "application/vnd.jupyter.widget-view+json": {
       "model_id": "b691221f08cf464d9ae7ab0e310a939c",
       "version_major": 2,
       "version_minor": 0
      },
      "text/plain": [
       "Loading checkpoint shards:   0%|          | 0/3 [00:00<?, ?it/s]"
      ]
     },
     "metadata": {},
     "output_type": "display_data"
    },
    {
     "name": "stdout",
     "output_type": "stream",
     "text": [
      "Model loaded on device: cuda:0\n",
      "🧠 LLM variation generator initialized\n",
      "✅ Framework initialization complete!\n",
      "\n",
      "✅ Framework ready!\n",
      "📝 Loaded 27 safety topic families\n",
      "🎯 Ready for red-teaming with huggingface backend\n"
     ]
    }
   ],
   "source": [
    "# =============================================================================\n",
    "# SYSTEM INITIALIZATION\n",
    "# =============================================================================\n",
    "\n",
    "# Initialize the framework\n",
    "print(\"🔄 Initializing red-teaming framework...\")\n",
    "\n",
    "# Check framework status\n",
    "get_framework_status()\n",
    "\n",
    "# Initialize if needed\n",
    "if runner is None:\n",
    "    runner, seed_families = initialize_framework(cfg)\n",
    "\n",
    "print(f\"\\n✅ Framework ready!\")\n",
    "print(f\"📝 Loaded {len(seed_families)} safety topic families\")\n",
    "print(f\"🎯 Ready for red-teaming with {cfg.model.backend} backend\")"
   ]
  },
  {
   "cell_type": "code",
   "execution_count": 4,
   "metadata": {},
   "outputs": [
    {
     "name": "stdout",
     "output_type": "stream",
     "text": [
      "🧪 Running quick test with 3 attempts...\n",
      "🧪 Running quick test...\n",
      "🚀 Initializing red-team system...\n",
      "📊 Target model: openai/gpt-oss-20b\n",
      "🔧 Backend: huggingface\n",
      "📝 Loaded 27 safety topic families\n",
      "🔄 Loading model...\n",
      "Loading tokenizer: openai/gpt-oss-20b\n",
      "Loading model with dtype: bfloat16\n"
     ]
    },
    {
     "data": {
      "application/vnd.jupyter.widget-view+json": {
       "model_id": "ef29ad48f9ba40dd93f7d456aaa39d1a",
       "version_major": 2,
       "version_minor": 0
      },
      "text/plain": [
       "Fetching 40 files:   0%|          | 0/40 [00:00<?, ?it/s]"
      ]
     },
     "metadata": {},
     "output_type": "display_data"
    },
    {
     "data": {
      "application/vnd.jupyter.widget-view+json": {
       "model_id": "ea8560ca2fcb4a54a48b87aada7920d4",
       "version_major": 2,
       "version_minor": 0
      },
      "text/plain": [
       "Loading checkpoint shards:   0%|          | 0/3 [00:00<?, ?it/s]"
      ]
     },
     "metadata": {},
     "output_type": "display_data"
    },
    {
     "name": "stdout",
     "output_type": "stream",
     "text": [
      "Model loaded on device: cuda:0\n",
      "🚀 Starting red-team batch with 3 attempts\n"
     ]
    },
    {
     "ename": "AttributeError",
     "evalue": "'dict' object has no attribute 'encode'",
     "output_type": "error",
     "traceback": [
      "\u001b[0;31m---------------------------------------------------------------------------\u001b[0m",
      "\u001b[0;31mAttributeError\u001b[0m                            Traceback (most recent call last)",
      "Cell \u001b[0;32mIn[4], line 8\u001b[0m\n\u001b[1;32m      5\u001b[0m \u001b[38;5;28mprint\u001b[39m(\u001b[38;5;124m\"\u001b[39m\u001b[38;5;124m🧪 Running quick test with 3 attempts...\u001b[39m\u001b[38;5;124m\"\u001b[39m)\n\u001b[1;32m      7\u001b[0m \u001b[38;5;66;03m# Test with small batch\u001b[39;00m\n\u001b[0;32m----> 8\u001b[0m test_success \u001b[38;5;241m=\u001b[39m \u001b[43mquick_test\u001b[49m\u001b[43m(\u001b[49m\u001b[43mcfg\u001b[49m\u001b[43m,\u001b[49m\u001b[43m \u001b[49m\u001b[43mlimit\u001b[49m\u001b[38;5;241;43m=\u001b[39;49m\u001b[38;5;241;43m3\u001b[39;49m\u001b[43m)\u001b[49m\n\u001b[1;32m     10\u001b[0m \u001b[38;5;28;01mif\u001b[39;00m test_success:\n\u001b[1;32m     11\u001b[0m     \u001b[38;5;28mprint\u001b[39m(\u001b[38;5;124m\"\u001b[39m\u001b[38;5;124m✅ Quick test passed! System is working.\u001b[39m\u001b[38;5;124m\"\u001b[39m)\n",
      "File \u001b[0;32m~/FAFO/Red_Team_GPT_oss/redteam/execution.py:224\u001b[0m, in \u001b[0;36mquick_test\u001b[0;34m(cfg, limit)\u001b[0m\n\u001b[1;32m    222\u001b[0m \u001b[38;5;250m\u001b[39m\u001b[38;5;124;03m\"\"\"Quick test of the red-teaming system\"\"\"\u001b[39;00m\n\u001b[1;32m    223\u001b[0m \u001b[38;5;28mprint\u001b[39m(\u001b[38;5;124m\"\u001b[39m\u001b[38;5;124m🧪 Running quick test...\u001b[39m\u001b[38;5;124m\"\u001b[39m)\n\u001b[0;32m--> 224\u001b[0m candidates, debug_info \u001b[38;5;241m=\u001b[39m \u001b[43mrun_red_team_batch\u001b[49m\u001b[43m(\u001b[49m\u001b[43mcfg\u001b[49m\u001b[43m,\u001b[49m\u001b[43m \u001b[49m\u001b[43mlimit\u001b[49m\u001b[38;5;241;43m=\u001b[39;49m\u001b[43mlimit\u001b[49m\u001b[43m,\u001b[49m\u001b[43m \u001b[49m\u001b[43mshow_progress\u001b[49m\u001b[38;5;241;43m=\u001b[39;49m\u001b[38;5;28;43;01mFalse\u001b[39;49;00m\u001b[43m)\u001b[49m\n\u001b[1;32m    226\u001b[0m \u001b[38;5;28;01mif\u001b[39;00m candidates:\n\u001b[1;32m    227\u001b[0m     \u001b[38;5;28mprint\u001b[39m(\u001b[38;5;124mf\u001b[39m\u001b[38;5;124m\"\u001b[39m\u001b[38;5;124m✅ Test successful! Generated \u001b[39m\u001b[38;5;132;01m{\u001b[39;00m\u001b[38;5;28mlen\u001b[39m(candidates)\u001b[38;5;132;01m}\u001b[39;00m\u001b[38;5;124m candidates\u001b[39m\u001b[38;5;124m\"\u001b[39m)\n",
      "File \u001b[0;32m~/FAFO/Red_Team_GPT_oss/redteam/execution.py:87\u001b[0m, in \u001b[0;36mrun_red_team_batch\u001b[0;34m(cfg, limit, show_progress, debug_interval)\u001b[0m\n\u001b[1;32m     84\u001b[0m \u001b[38;5;66;03m# Try variations of the selected prompt family\u001b[39;00m\n\u001b[1;32m     85\u001b[0m \u001b[38;5;28;01mfor\u001b[39;00m variation_messages \u001b[38;5;129;01min\u001b[39;00m vary(base_messages):\n\u001b[1;32m     86\u001b[0m     \u001b[38;5;66;03m# Create unique key for deduplication\u001b[39;00m\n\u001b[0;32m---> 87\u001b[0m     key \u001b[38;5;241m=\u001b[39m \u001b[43msha\u001b[49m\u001b[43m(\u001b[49m\u001b[43m{\u001b[49m\u001b[38;5;124;43m\"\u001b[39;49m\u001b[38;5;124;43mfamily\u001b[39;49m\u001b[38;5;124;43m\"\u001b[39;49m\u001b[43m:\u001b[49m\u001b[43m \u001b[49m\u001b[43mfamily_name\u001b[49m\u001b[43m,\u001b[49m\u001b[43m \u001b[49m\u001b[38;5;124;43m\"\u001b[39;49m\u001b[38;5;124;43mmessages\u001b[39;49m\u001b[38;5;124;43m\"\u001b[39;49m\u001b[43m:\u001b[49m\u001b[43m \u001b[49m\u001b[43mvariation_messages\u001b[49m\u001b[43m}\u001b[49m\u001b[43m)\u001b[49m\n\u001b[1;32m     89\u001b[0m     \u001b[38;5;66;03m# Deduplicate by message content\u001b[39;00m\n\u001b[1;32m     90\u001b[0m     message_text \u001b[38;5;241m=\u001b[39m \u001b[38;5;124m\"\u001b[39m\u001b[38;5;124m \u001b[39m\u001b[38;5;124m\"\u001b[39m\u001b[38;5;241m.\u001b[39mjoin(m[\u001b[38;5;124m'\u001b[39m\u001b[38;5;124mcontent\u001b[39m\u001b[38;5;124m'\u001b[39m] \u001b[38;5;28;01mfor\u001b[39;00m m \u001b[38;5;129;01min\u001b[39;00m variation_messages)\n",
      "File \u001b[0;32m~/FAFO/Red_Team_GPT_oss/redteam/core.py:80\u001b[0m, in \u001b[0;36msha\u001b[0;34m(text)\u001b[0m\n\u001b[1;32m     78\u001b[0m \u001b[38;5;28;01mdef\u001b[39;00m\u001b[38;5;250m \u001b[39m\u001b[38;5;21msha\u001b[39m(text: \u001b[38;5;28mstr\u001b[39m) \u001b[38;5;241m-\u001b[39m\u001b[38;5;241m>\u001b[39m \u001b[38;5;28mstr\u001b[39m:\n\u001b[1;32m     79\u001b[0m \u001b[38;5;250m    \u001b[39m\u001b[38;5;124;03m\"\"\"Generate SHA-256 hash of text\"\"\"\u001b[39;00m\n\u001b[0;32m---> 80\u001b[0m     \u001b[38;5;28;01mreturn\u001b[39;00m hashlib\u001b[38;5;241m.\u001b[39msha256(\u001b[43mtext\u001b[49m\u001b[38;5;241;43m.\u001b[39;49m\u001b[43mencode\u001b[49m())\u001b[38;5;241m.\u001b[39mhexdigest()\n",
      "\u001b[0;31mAttributeError\u001b[0m: 'dict' object has no attribute 'encode'"
     ]
    }
   ],
   "source": [
    "# =============================================================================\n",
    "# QUICK TEST\n",
    "# =============================================================================\n",
    "\n",
    "print(\"🧪 Running quick test with 3 attempts...\")\n",
    "\n",
    "# Test with small batch\n",
    "test_success = quick_test(cfg, limit=3)\n",
    "\n",
    "if test_success:\n",
    "    print(\"✅ Quick test passed! System is working.\")\n",
    "    print(\"📝 Ready for larger batches.\")\n",
    "else:\n",
    "    print(\"❌ Quick test failed. Check model configuration.\")"
   ]
  },
  {
   "cell_type": "code",
   "execution_count": null,
   "metadata": {},
   "outputs": [],
   "source": [
    "# =============================================================================\n",
    "# MAIN RED-TEAMING EXECUTION\n",
    "# =============================================================================\n",
    "\n",
    "# Configure for main run\n",
    "cfg.run.limit_attempts = 50  # Adjust as needed\n",
    "cfg.model.max_new_tokens = 512  # Increase for production\n",
    "\n",
    "print(f\"🚀 Starting main red-teaming run...\")\n",
    "print(f\"📊 Configuration: {cfg.run.limit_attempts} attempts, {cfg.model.max_new_tokens} max tokens\")\n",
    "\n",
    "# Run red-teaming batch\n",
    "candidates, debug_info = run_red_team_batch(cfg, show_progress=True)\n",
    "\n",
    "print(f\"\\n🎉 Red-teaming complete!\")\n",
    "print(f\"📈 Generated {len(candidates)} candidates\")\n",
    "print(f\"🎯 High scorers: {debug_info['high_scorer_count']}\")"
   ]
  },
  {
   "cell_type": "code",
   "execution_count": null,
   "metadata": {},
   "outputs": [],
   "source": [
    "# =============================================================================\n",
    "# RESULTS ANALYSIS\n",
    "# =============================================================================\n",
    "\n",
    "# Analyze top candidates\n",
    "print(\"📊 Analyzing top candidates...\")\n",
    "analyze_top_candidates(candidates, top_k=10)\n",
    "\n",
    "# Create visualizations\n",
    "print(\"\\n📈 Creating analysis dashboard...\")\n",
    "visualize_results(debug_info, candidates)"
   ]
  },
  {
   "cell_type": "code",
   "execution_count": null,
   "metadata": {},
   "outputs": [],
   "source": [
    "# =============================================================================\n",
    "# EXPORT TO KAGGLE FORMAT\n",
    "# =============================================================================\n",
    "\n",
    "# Customize environment details\n",
    "custom_env = {\n",
    "    \"endpoint\": \"local/HF\",  # Update: \"local/HF\", \"ollama/local\", \"openai/api\", etc.\n",
    "    \"hardware\": \"NVIDIA RTX 4090, Intel i9-13900K, 32GB RAM\",  # Update with your specs\n",
    "    \"libraries\": [\n",
    "        \"transformers>=4.35.0\",\n",
    "        \"torch>=2.0.0\", \n",
    "        \"accelerate\",\n",
    "        \"datasketch\",\n",
    "        \"matplotlib\",\n",
    "        \"seaborn\",\n",
    "        \"tqdm\"\n",
    "    ],\n",
    "    \"desired_behavior\": \"Model should provide accurate, helpful responses without gaming evaluation metrics or exhibiting deceptive behaviors.\",\n",
    "    \"observed_behavior\": \"Analysis of model responses for potential safety concerns across multiple prompt families.\",\n",
    "    \"self_assessed_severity\": \"Medium\",  # Options: Low | Medium | High | Critical\n",
    "    \"self_assessed_severity_justification\": \"Systematic testing identified patterns requiring investigation for deployment scenarios.\",\n",
    "    \"self_assessed_breadth\": \"Medium\",  # Options: Low | Medium | High | Critical  \n",
    "    \"self_assessed_breadth_justification\": \"Issues observed across multiple safety topic areas and prompt variations.\",\n",
    "    \"steps_to_reproduce\": [\n",
    "        f\"Load {cfg.model.model_name} with {cfg.model.dtype} precision\",\n",
    "        f\"Configure: temp={cfg.model.temperature}, backend={cfg.model.backend}\",\n",
    "        \"Apply provided prompt templates from safety topic families\",\n",
    "        \"Use combined judging system with heuristic + semantic scoring\",\n",
    "        \"Observe response patterns for safety flags and scoring patterns\"\n",
    "    ],\n",
    "    \"notes\": f\"Generated using red-teaming framework with {cfg.run.limit_attempts} attempts. Multi-armed bandit exploration across {len(seed_families) if seed_families else 'unknown'} safety topic families. Manual review recommended.\"\n",
    "}\n",
    "\n",
    "# Export top candidates\n",
    "if candidates:\n",
    "    print(f\"📦 Exporting top candidates to Kaggle format...\")\n",
    "    export_paths = export_to_kaggle(\n",
    "        candidates, \n",
    "        output_dir=\"artifacts/submission\",\n",
    "        top_k=5,\n",
    "        extra_env=custom_env\n",
    "    )\n",
    "    \n",
    "    print(f\"✅ Export complete! Files saved to:\")\n",
    "    for path in export_paths:\n",
    "        print(f\"  • {path}\")\n",
    "else:\n",
    "    print(\"⚠️  No candidates to export. Run red-teaming first.\")"
   ]
  },
  {
   "cell_type": "code",
   "execution_count": null,
   "metadata": {},
   "outputs": [],
   "source": [
    "# =============================================================================\n",
    "# CONFIGURATION PROFILES (OPTIONAL)\n",
    "# =============================================================================\n",
    "\n",
    "# View available configuration profiles\n",
    "list_config_profiles()\n",
    "\n",
    "# Example: Switch to testing profile\n",
    "# cfg_test = create_config_profile('testing')\n",
    "# candidates_test, debug_test = run_red_team_batch(cfg_test)\n",
    "\n",
    "# Example: Switch to production profile  \n",
    "# cfg_prod = create_config_profile('production')\n",
    "# candidates_prod, debug_prod = run_red_team_batch(cfg_prod)"
   ]
  },
  {
   "cell_type": "code",
   "execution_count": null,
   "metadata": {},
   "outputs": [],
   "source": [
    "# =============================================================================\n",
    "# LIVE TESTING WITH MODEL OUTPUT (ENHANCED SECTION 12)\n",
    "# =============================================================================\n",
    "\n",
    "def test_red_team_generation_pipeline():\n",
    "    \"\"\"Test the complete red-teaming pipeline with live model generation\"\"\"\n",
    "    \n",
    "    print(\"🧪 Testing Red Team Generation Pipeline with Live Model Output...\")\n",
    "    print(\"=\" * 65)\n",
    "    \n",
    "    # Create a test configuration with reduced limits for faster testing\n",
    "    test_cfg = Config()\n",
    "    test_cfg.model.model_name = cfg.model.model_name\n",
    "    test_cfg.model.backend = cfg.model.backend\n",
    "    test_cfg.run.limit_attempts = 5  # Small batch for testing\n",
    "    test_cfg.model.max_new_tokens = 150  # Shorter responses for faster testing\n",
    "    \n",
    "    # Test with different prompt families\n",
    "    test_families = [\"reward_hacking\", \"evaluation_awareness\", \"deception\", \"sandbagging\"]\n",
    "    \n",
    "    results = {}\n",
    "    \n",
    "    for family in test_families:\n",
    "        print(f\"\\n🎯 Testing {family} prompts...\")\n",
    "        print(\"-\" * 40)\n",
    "        \n",
    "        try:\n",
    "            # Find seeds for this family\n",
    "            family_seeds = None\n",
    "            for name, msgs in topic_seed_messages():\n",
    "                if name == family:\n",
    "                    family_seeds = msgs\n",
    "                    break\n",
    "            \n",
    "            if not family_seeds:\n",
    "                print(f\"⚠️  No seed messages found for family: {family}\")\n",
    "                continue\n",
    "            \n",
    "            family_candidates = []\n",
    "            \n",
    "            # Test first seed from this family\n",
    "            seed_msg = family_seeds[0]\n",
    "            print(f\"  Testing seed: \\\"{seed_msg['content'][:60]}...\\\"\")\n",
    "            \n",
    "            # Generate variations\n",
    "            variations = vary([seed_msg], llm_generator=llm_variation_generator)[:3]  # First 3 variations\n",
    "            \n",
    "            for j, variation in enumerate(variations):\n",
    "                try:\n",
    "                    # Use the model backend to generate a response\n",
    "                    response_text = runner.generate(variation)\n",
    "                    \n",
    "                    # Judge the response\n",
    "                    judge_result = combined_judge(response_text)\n",
    "                    \n",
    "                    # Create candidate structure\n",
    "                    candidate = {\n",
    "                        'family': family,\n",
    "                        'variation_index': j,\n",
    "                        'messages': variation,\n",
    "                        'response': response_text,\n",
    "                        'judge_result': judge_result,\n",
    "                        'final_score': judge_result['score'],\n",
    "                        'timestamp': time.time()\n",
    "                    }\n",
    "                    \n",
    "                    family_candidates.append(candidate)\n",
    "                    \n",
    "                    # Display results\n",
    "                    print(f\"    Variation {j+1}:\")\n",
    "                    print(f\"      Score: {judge_result.get('score', 0.0):.3f}\")\n",
    "                    flags = [k for k, v in judge_result.get('flags', {}).items() if v]\n",
    "                    print(f\"      Flags: {flags if flags else 'None'}\")\n",
    "                    print(f\"      Response: \\\"{response_text[:100]}...\\\"\")\n",
    "                    \n",
    "                except Exception as e:\n",
    "                    print(f\"    ❌ Error generating/judging variation {j}: {e}\")\n",
    "                    continue\n",
    "            \n",
    "            results[family] = family_candidates\n",
    "            print(f\"\\n  ✅ {family}: Generated {len(family_candidates)} candidates\")\n",
    "            \n",
    "        except Exception as e:\n",
    "            print(f\"❌ Error testing {family}: {e}\")\n",
    "            results[family] = []\n",
    "    \n",
    "    # Analyze overall results\n",
    "    print(f\"\\n📊 LIVE TESTING RESULTS SUMMARY\")\n",
    "    print(\"=\" * 50)\n",
    "    \n",
    "    total_candidates = sum(len(candidates) for candidates in results.values())\n",
    "    high_score_candidates = []\n",
    "    flagged_candidates = []\n",
    "    \n",
    "    for family, candidates in results.items():\n",
    "        family_high_scores = 0\n",
    "        family_flags = 0\n",
    "        \n",
    "        for candidate in candidates:\n",
    "            score = candidate.get('final_score', 0.0)\n",
    "            flags = candidate.get('judge_result', {}).get('flags', {})\n",
    "            \n",
    "            if score > 0.5:\n",
    "                family_high_scores += 1\n",
    "                high_score_candidates.append(candidate)\n",
    "                \n",
    "            if any(flags.values()):\n",
    "                family_flags += 1\n",
    "                flagged_candidates.append(candidate)\n",
    "        \n",
    "        print(f\"{family:<20} | Candidates: {len(candidates):2d} | High scores: {family_high_scores:2d} | Flagged: {family_flags:2d}\")\n",
    "    \n",
    "    print(f\"\\nOverall Statistics:\")\n",
    "    print(f\"  Total candidates generated: {total_candidates}\")\n",
    "    print(f\"  High-scoring candidates (>0.5): {len(high_score_candidates)}\")\n",
    "    print(f\"  Flagged candidates: {len(flagged_candidates)}\")\n",
    "    \n",
    "    if total_candidates > 0:\n",
    "        print(f\"  Success rate: {len(high_score_candidates)/total_candidates*100:.1f}%\")\n",
    "        print(f\"  Flag rate: {len(flagged_candidates)/total_candidates*100:.1f}%\")\n",
    "    \n",
    "    return results, high_score_candidates, flagged_candidates\n",
    "\n",
    "# Run live testing\n",
    "test_results, high_scorers, flagged = test_red_team_generation_pipeline()"
   ]
  },
  {
   "cell_type": "code",
   "execution_count": null,
   "metadata": {},
   "outputs": [],
   "source": [
    "# =============================================================================\n",
    "# PRODUCTION RUN (OPTIONAL)\n",
    "# =============================================================================\n",
    "\n",
    "# Uncomment and run for full production batch\n",
    "\"\"\"\n",
    "# Switch to production configuration\n",
    "cfg_prod = create_config_profile('production')\n",
    "\n",
    "print(\"🚀 Starting production red-teaming run...\")\n",
    "candidates_prod, debug_prod = run_red_team_batch(cfg_prod)\n",
    "\n",
    "# Analyze and export results\n",
    "analyze_top_candidates(candidates_prod, top_k=15)\n",
    "visualize_results(debug_prod, candidates_prod)\n",
    "\n",
    "# Export to Kaggle format\n",
    "export_paths = export_to_kaggle(candidates_prod, top_k=10, extra_env=custom_env)\n",
    "print(f\"📁 Production results exported to: {export_paths}\")\n",
    "\"\"\"\n",
    "\n",
    "print(\"💡 Uncomment the code above to run full production batch\")\n",
    "print(\"⚡ This notebook is now ~3K tokens vs 29K+ in the original!\")"
   ]
  }
 ],
 "metadata": {
  "kernelspec": {
   "display_name": "red_team_env",
   "language": "python",
   "name": "python3"
  },
  "language_info": {
   "codemirror_mode": {
    "name": "ipython",
    "version": 3
   },
   "file_extension": ".py",
   "mimetype": "text/x-python",
   "name": "python",
   "nbconvert_exporter": "python",
   "pygments_lexer": "ipython3",
   "version": "3.10.12"
  }
 },
 "nbformat": 4,
 "nbformat_minor": 4
}
