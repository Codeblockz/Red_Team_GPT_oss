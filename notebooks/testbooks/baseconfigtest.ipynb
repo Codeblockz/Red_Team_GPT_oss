{
 "cells": [
  {
   "cell_type": "code",
   "execution_count": 1,
   "id": "af33830e",
   "metadata": {},
   "outputs": [
    {
     "name": "stdout",
     "output_type": "stream",
     "text": [
      "🎯 Red Team Framework v2.0.0 loaded!\n",
      "📋 Quick start:\n",
      "   from redteam import *\n",
      "   initialize_framework()  # Load model and setup\n",
      "   candidates, debug = run(limit=20)  # Quick test\n",
      "   analyze_top_candidates(candidates)  # View results\n",
      "🎯 Red Team Framework loaded!\n",
      "📋 Available functions:\n",
      "   • Configuration: Config, ModelConfig, etc.\n",
      "   • Models: HuggingFaceRunner, OllamaRunner\n",
      "   • Execution: run_red_team_batch, quick_test\n",
      "   • Analysis: visualize_results, analyze_top_candidates\n",
      "   • Export: export_to_kaggle, create_config_profile\n"
     ]
    }
   ],
   "source": [
    "# =============================================================================\n",
    "# DEPENDENCIES AND IMPORTS (FIXED)\n",
    "# =============================================================================\n",
    "\n",
    "import sys\n",
    "import os\n",
    "\n",
    "# Add project root to path (two levels up from testbooks)\n",
    "project_root = os.path.abspath('../..')\n",
    "sys.path.insert(0, project_root)\n",
    "\n",
    "# Import the complete red-teaming framework\n",
    "from redteam import *\n",
    "\n",
    "print(\"🎯 Red Team Framework loaded!\")\n",
    "print(\"📋 Available functions:\")\n",
    "print(\"   • Configuration: Config, ModelConfig, etc.\")\n",
    "print(\"   • Models: HuggingFaceRunner, OllamaRunner\")\n",
    "print(\"   • Execution: run_red_team_batch, quick_test\")\n",
    "print(\"   • Analysis: visualize_results, analyze_top_candidates\")\n",
    "print(\"   • Export: export_to_kaggle, create_config_profile\")"
   ]
  },
  {
   "cell_type": "code",
   "execution_count": 2,
   "id": "7527b9d6",
   "metadata": {},
   "outputs": [
    {
     "name": "stdout",
     "output_type": "stream",
     "text": [
      "✅ Configuration created:\n",
      "   Model: openai/gpt-oss-20b\n",
      "   Backend: huggingface\n",
      "   Max tokens: 256\n",
      "   Attempts: 20\n"
     ]
    }
   ],
   "source": [
    "# =============================================================================\n",
    "# CONFIGURATION\n",
    "# =============================================================================\n",
    "\n",
    "# Create and customize configuration\n",
    "cfg = Config()\n",
    "\n",
    "# MODEL CONFIGURATION - Update these for your setup\n",
    "cfg.model.model_name = \"openai/gpt-oss-20b\"  # Update with your model path\n",
    "cfg.model.backend = \"huggingface\"  # or \"ollama\"\n",
    "cfg.model.device = \"cuda\"\n",
    "cfg.model.dtype = \"bfloat16\"\n",
    "cfg.model.max_new_tokens = 256  # Start small for testing\n",
    "cfg.model.temperature = 0.2\n",
    "\n",
    "# RUN CONFIGURATION\n",
    "cfg.run.limit_attempts = 20  # Start small for testing\n",
    "cfg.run.out_dir = \"artifacts\"\n",
    "\n",
    "print(f\"✅ Configuration created:\")\n",
    "print(f\"   Model: {cfg.model.model_name}\")\n",
    "print(f\"   Backend: {cfg.model.backend}\")\n",
    "print(f\"   Max tokens: {cfg.model.max_new_tokens}\")\n",
    "print(f\"   Attempts: {cfg.run.limit_attempts}\")"
   ]
  },
  {
   "cell_type": "code",
   "execution_count": 3,
   "id": "fa9af33a",
   "metadata": {},
   "outputs": [
    {
     "name": "stdout",
     "output_type": "stream",
     "text": [
      "🔄 Initializing red-teaming framework...\n",
      "📊 Framework Status:\n",
      "   ❌ runner_initialized: False\n",
      "   ❌ seed_families_loaded: False\n",
      "   ❌ llm_generator_available: False\n",
      "   ✅ backend: huggingface\n",
      "   ✅ model: openai/gpt-oss-20b\n",
      "🚀 Initializing Red Team Framework v2.0.0\n",
      "🎯 Model: openai/gpt-oss-20b\n",
      "🔧 Backend: huggingface\n",
      "📝 Loaded 27 safety topic families\n",
      "Loading tokenizer: openai/gpt-oss-20b\n",
      "Loading model with dtype: bfloat16\n"
     ]
    },
    {
     "data": {
      "application/vnd.jupyter.widget-view+json": {
       "model_id": "dd4b3e6bf6184ae1af8ffb47dfbfd992",
       "version_major": 2,
       "version_minor": 0
      },
      "text/plain": [
       "Fetching 40 files:   0%|          | 0/40 [00:00<?, ?it/s]"
      ]
     },
     "metadata": {},
     "output_type": "display_data"
    },
    {
     "data": {
      "application/vnd.jupyter.widget-view+json": {
       "model_id": "1e97490c945c4b119b24b8b4625b209b",
       "version_major": 2,
       "version_minor": 0
      },
      "text/plain": [
       "Loading checkpoint shards:   0%|          | 0/3 [00:00<?, ?it/s]"
      ]
     },
     "metadata": {},
     "output_type": "display_data"
    },
    {
     "name": "stdout",
     "output_type": "stream",
     "text": [
      "Model loaded on device: cuda:0\n",
      "🧠 LLM variation generator initialized\n",
      "✅ Framework initialization complete!\n",
      "\n",
      "✅ Framework ready!\n",
      "📝 Loaded 27 safety topic families\n",
      "🎯 Ready for red-teaming with huggingface backend\n"
     ]
    }
   ],
   "source": [
    "# =============================================================================\n",
    "# SYSTEM INITIALIZATION\n",
    "# =============================================================================\n",
    "\n",
    "# Initialize the framework\n",
    "print(\"🔄 Initializing red-teaming framework...\")\n",
    "\n",
    "# Check framework status\n",
    "get_framework_status()\n",
    "\n",
    "# Initialize if needed\n",
    "if runner is None:\n",
    "    runner, seed_families = initialize_framework(cfg)\n",
    "\n",
    "print(f\"\\n✅ Framework ready!\")\n",
    "print(f\"📝 Loaded {len(seed_families)} safety topic families\")\n",
    "print(f\"🎯 Ready for red-teaming with {cfg.model.backend} backend\")"
   ]
  }
 ],
 "metadata": {
  "kernelspec": {
   "display_name": "red_team_env",
   "language": "python",
   "name": "python3"
  },
  "language_info": {
   "codemirror_mode": {
    "name": "ipython",
    "version": 3
   },
   "file_extension": ".py",
   "mimetype": "text/x-python",
   "name": "python",
   "nbconvert_exporter": "python",
   "pygments_lexer": "ipython3",
   "version": "3.10.12"
  }
 },
 "nbformat": 4,
 "nbformat_minor": 5
}
