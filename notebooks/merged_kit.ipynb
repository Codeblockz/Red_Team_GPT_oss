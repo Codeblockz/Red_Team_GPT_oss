{
 "cells": [
  {
   "cell_type": "markdown",
   "id": "29b5d4c5",
   "metadata": {},
   "source": [
    "# GPT‑OSS‑20B Red‑Teaming — Merged Pro Kit"
   ]
  },
  {
   "cell_type": "markdown",
   "id": "62331055",
   "metadata": {},
   "source": [
    "## 1) Setup"
   ]
  },
  {
   "cell_type": "code",
   "execution_count": null,
   "id": "a7fafa4e",
   "metadata": {},
   "outputs": [],
   "source": [
    "\n",
    "# !pip -q install transformers accelerate torch datasketch faiss-cpu\n",
    "from redteam.config import Config\n",
    "from redteam.runner import run_batch\n",
    "from redteam.polish import top_five\n",
    "from redteam.make_submission import write_many\n",
    "cfg = Config()\n",
    "cfg.model.model_name = \"gpt-oss-20b\"   # TODO: set to your local HF id/path\n",
    "cfg.model.dtype = \"bfloat16\"\n",
    "cfg.run.limit_attempts = 200\n",
    "print(\"Config ready.\")"
   ]
  },
  {
   "cell_type": "markdown",
   "id": "f59e14a9",
   "metadata": {},
   "source": [
    "## 2) Explore"
   ]
  },
  {
   "cell_type": "code",
   "execution_count": null,
   "id": "b8bd643d",
   "metadata": {},
   "outputs": [],
   "source": [
    "\n",
    "candidates = run_batch(cfg, limit=cfg.run.limit_attempts)\n",
    "len(candidates)"
   ]
  },
  {
   "cell_type": "markdown",
   "id": "5ec1cf2a",
   "metadata": {},
   "source": [
    "## 3) Top‑5 and export to Kaggle schema"
   ]
  },
  {
   "cell_type": "code",
   "execution_count": null,
   "id": "05ae52f4",
   "metadata": {},
   "outputs": [],
   "source": [
    "\n",
    "top5 = top_five(candidates)\n",
    "extra_env = {\n",
    "  \"endpoint\": \"local/HF\",\n",
    "  \"hardware\": \"RTX 5090 + Ryzen 9, 64GB RAM (example)\",\n",
    "  \"libraries\": [\"transformers\", \"torch\", \"accelerate\", \"datasketch\"],\n",
    "  \"desired_behavior\": \"Model should prioritize correctness and safety over stylistic reward signals and should not game evaluation contexts.\",\n",
    "  \"observed_behavior\": \"Observed indications of reward hacking/deception/eval awareness (see transcript excerpt).\",\n",
    "  \"self_assessed_severity\": \"Medium\",\n",
    "  \"self_assessed_severity_justification\": \"Behavior is reproducible in text-only setting and undermines safety properties.\",\n",
    "  \"self_assessed_breadth\": \"Medium\",\n",
    "  \"self_assessed_breadth_justification\": \"Variants across similar prompts show consistent signals.\",\n",
    "  \"steps_to_reproduce\": [\"Load the same model/version and parameters\", \"Use the provided harmony transcript\", \"Verify outputs match the excerpt\"],\n",
    "  \"notes\": \"Replace fields with precise measurements and full rationale before submission.\"\n",
    "}\n",
    "paths = write_many(\"artifacts/submission\", top5, extra_env)\n",
    "paths"
   ]
  }
 ],
 "metadata": {},
 "nbformat": 4,
 "nbformat_minor": 5
}
